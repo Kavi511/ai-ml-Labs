{
 "cells": [
  {
   "cell_type": "code",
   "execution_count": 1,
   "id": "903e2e93-a364-482b-ac62-c8ca04399152",
   "metadata": {},
   "outputs": [
    {
     "name": "stdout",
     "output_type": "stream",
     "text": [
      "   sentiment                                              tweet\n",
      "0          0  Eating a gyro for breakfast at the airport. Pr...\n",
      "1          1  Well .. .you fall of the 'horse' and get strai...\n",
      "2          0  thanks for the responses but when is it really...\n",
      "3          0                        depressed.! fuuck my life! \n",
      "4          1  is LMAO, just thinkin of the 80/20 rule.....wo...\n"
     ]
    }
   ],
   "source": [
    "import pandas as pd\n",
    "\n",
    "# Load the dataset\n",
    "df = pd.read_csv(\"S:/Course work/3rd year/Artificial Intelligence & Machine Learning/Workshop9/Tweets.csv\")\n",
    "\n",
    "# Preview\n",
    "print(df.head())\n"
   ]
  },
  {
   "cell_type": "code",
   "execution_count": 6,
   "id": "a2dc7895-3722-41b6-8dbf-eeecc94ce223",
   "metadata": {},
   "outputs": [],
   "source": [
    "from sklearn.model_selection import train_test_split\n",
    "from sklearn.feature_extraction.text import TfidfVectorizer\n",
    "from sklearn.preprocessing import LabelEncoder\n",
    "from sklearn.metrics import classification_report\n",
    "from sklearn.linear_model import LogisticRegression\n",
    "from sklearn.naive_bayes import MultinomialNB\n",
    "from sklearn.ensemble import RandomForestClassifier\n",
    "from sklearn.svm import SVC\n",
    "from sklearn.tree import DecisionTreeClassifier\n",
    "from sklearn.neighbors import KNeighborsClassifier"
   ]
  },
  {
   "cell_type": "code",
   "execution_count": 7,
   "id": "b30be4c7-81a4-4d7f-b73c-882306d91eb6",
   "metadata": {},
   "outputs": [],
   "source": [
    "# Prepare the features and labels\n",
    "X = df['tweet']\n",
    "y = df['sentiment']\n"
   ]
  },
  {
   "cell_type": "code",
   "execution_count": 8,
   "id": "71ff6b99-42ba-48ca-86b5-f789532a83d0",
   "metadata": {},
   "outputs": [],
   "source": [
    "# Vectorize the tweets\n",
    "vectorizer = TfidfVectorizer(stop_words='english', max_features=5000)\n",
    "X_vectorized = vectorizer.fit_transform(X)"
   ]
  },
  {
   "cell_type": "code",
   "execution_count": 9,
   "id": "0dc052ce-423d-4e9d-aa23-8cac2ab918f7",
   "metadata": {},
   "outputs": [],
   "source": [
    "# Train/test split\n",
    "X_train, X_test, y_train, y_test = train_test_split(X_vectorized, y, test_size=0.2, random_state=42)\n"
   ]
  },
  {
   "cell_type": "code",
   "execution_count": 10,
   "id": "fb0b0a0b-7f33-42fe-9154-f77e7e6e7b98",
   "metadata": {},
   "outputs": [],
   "source": [
    "# Define the classifiers\n",
    "models = {\n",
    "    \"Logistic Regression\": LogisticRegression(max_iter=1000),\n",
    "    \"Naive Bayes\": MultinomialNB(),\n",
    "    \"Random Forest\": RandomForestClassifier(),\n",
    "    \"SVM\": SVC(),\n",
    "    \"Decision Tree\": DecisionTreeClassifier(),\n",
    "    \"KNN\": KNeighborsClassifier()\n",
    "}"
   ]
  },
  {
   "cell_type": "code",
   "execution_count": 11,
   "id": "f8f23a77-f15c-4e8e-9a9b-bb6d84c8d125",
   "metadata": {},
   "outputs": [],
   "source": [
    "# Evaluate each classifier\n",
    "results = {}\n",
    "for name, model in models.items():\n",
    "    model.fit(X_train, y_train)\n",
    "    y_pred = model.predict(X_test)\n",
    "    report = classification_report(y_test, y_pred, output_dict=True)\n",
    "    results[name] = {\n",
    "        \"Accuracy\": report[\"accuracy\"],\n",
    "        \"Precision (weighted)\": report[\"weighted avg\"][\"precision\"],\n",
    "        \"Recall (weighted)\": report[\"weighted avg\"][\"recall\"],\n",
    "        \"F1-score (weighted)\": report[\"weighted avg\"][\"f1-score\"]\n",
    "    }"
   ]
  },
  {
   "cell_type": "code",
   "execution_count": 13,
   "id": "bcb1f0bc-c8a1-4df0-96a4-98cd4f903ecf",
   "metadata": {},
   "outputs": [
    {
     "data": {
      "text/html": [
       "<div>\n",
       "<style scoped>\n",
       "    .dataframe tbody tr th:only-of-type {\n",
       "        vertical-align: middle;\n",
       "    }\n",
       "\n",
       "    .dataframe tbody tr th {\n",
       "        vertical-align: top;\n",
       "    }\n",
       "\n",
       "    .dataframe thead th {\n",
       "        text-align: right;\n",
       "    }\n",
       "</style>\n",
       "<table border=\"1\" class=\"dataframe\">\n",
       "  <thead>\n",
       "    <tr style=\"text-align: right;\">\n",
       "      <th></th>\n",
       "      <th>Accuracy</th>\n",
       "      <th>Precision (weighted)</th>\n",
       "      <th>Recall (weighted)</th>\n",
       "      <th>F1-score (weighted)</th>\n",
       "    </tr>\n",
       "  </thead>\n",
       "  <tbody>\n",
       "    <tr>\n",
       "      <th>Logistic Regression</th>\n",
       "      <td>0.748375</td>\n",
       "      <td>0.748804</td>\n",
       "      <td>0.748375</td>\n",
       "      <td>0.748309</td>\n",
       "    </tr>\n",
       "    <tr>\n",
       "      <th>Naive Bayes</th>\n",
       "      <td>0.738500</td>\n",
       "      <td>0.738510</td>\n",
       "      <td>0.738500</td>\n",
       "      <td>0.738502</td>\n",
       "    </tr>\n",
       "    <tr>\n",
       "      <th>Random Forest</th>\n",
       "      <td>0.727750</td>\n",
       "      <td>0.728947</td>\n",
       "      <td>0.727750</td>\n",
       "      <td>0.727480</td>\n",
       "    </tr>\n",
       "    <tr>\n",
       "      <th>SVM</th>\n",
       "      <td>0.750500</td>\n",
       "      <td>0.751226</td>\n",
       "      <td>0.750500</td>\n",
       "      <td>0.750374</td>\n",
       "    </tr>\n",
       "    <tr>\n",
       "      <th>Decision Tree</th>\n",
       "      <td>0.680750</td>\n",
       "      <td>0.681573</td>\n",
       "      <td>0.680750</td>\n",
       "      <td>0.680495</td>\n",
       "    </tr>\n",
       "    <tr>\n",
       "      <th>KNN</th>\n",
       "      <td>0.590000</td>\n",
       "      <td>0.593102</td>\n",
       "      <td>0.590000</td>\n",
       "      <td>0.587204</td>\n",
       "    </tr>\n",
       "  </tbody>\n",
       "</table>\n",
       "</div>"
      ],
      "text/plain": [
       "                     Accuracy  Precision (weighted)  Recall (weighted)  \\\n",
       "Logistic Regression  0.748375              0.748804           0.748375   \n",
       "Naive Bayes          0.738500              0.738510           0.738500   \n",
       "Random Forest        0.727750              0.728947           0.727750   \n",
       "SVM                  0.750500              0.751226           0.750500   \n",
       "Decision Tree        0.680750              0.681573           0.680750   \n",
       "KNN                  0.590000              0.593102           0.590000   \n",
       "\n",
       "                     F1-score (weighted)  \n",
       "Logistic Regression             0.748309  \n",
       "Naive Bayes                     0.738502  \n",
       "Random Forest                   0.727480  \n",
       "SVM                             0.750374  \n",
       "Decision Tree                   0.680495  \n",
       "KNN                             0.587204  "
      ]
     },
     "metadata": {},
     "output_type": "display_data"
    }
   ],
   "source": [
    "import pandas as pd\n",
    "\n",
    "# Convert results to DataFrame and transpose\n",
    "results_df = pd.DataFrame(results).T\n",
    "\n",
    "# Display in notebook\n",
    "display(results_df)\n"
   ]
  }
 ],
 "metadata": {
  "kernelspec": {
   "display_name": "Python 3 (ipykernel)",
   "language": "python",
   "name": "python3"
  },
  "language_info": {
   "codemirror_mode": {
    "name": "ipython",
    "version": 3
   },
   "file_extension": ".py",
   "mimetype": "text/x-python",
   "name": "python",
   "nbconvert_exporter": "python",
   "pygments_lexer": "ipython3",
   "version": "3.12.7"
  }
 },
 "nbformat": 4,
 "nbformat_minor": 5
}

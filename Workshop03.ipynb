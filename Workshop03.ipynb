{
 "cells": [
  {
   "cell_type": "code",
   "execution_count": 1,
   "id": "cbfa01f1-be16-4efd-a8eb-2b88fe3719c6",
   "metadata": {},
   "outputs": [],
   "source": [
    "import pandas as pd\n",
    "import numpy as np\n",
    "from sklearn.linear_model import LinearRegression, Ridge\n",
    "from sklearn.model_selection import train_test_split\n",
    "from sklearn.metrics import mean_squared_error, mean_absolute_error, r2_score\n",
    "from sklearn.impute import SimpleImputer"
   ]
  },
  {
   "cell_type": "code",
   "execution_count": 2,
   "id": "a23b09b7-3896-4012-835e-e4060a227f0d",
   "metadata": {},
   "outputs": [],
   "source": [
    "# === 1. Load and Inspect the Data ===\n",
    "file_path = r\"S:\\Course work\\3rd year\\Artificial Intelligence & Machine Learning\\Workshop3\\CarSharing.csv\"\n",
    "data = pd.read_csv(file_path)"
   ]
  },
  {
   "cell_type": "code",
   "execution_count": 3,
   "id": "8113c34d-36f6-4182-b822-9b3eae0f3bdf",
   "metadata": {},
   "outputs": [],
   "source": [
    "# Convert timestamp to datetime and extract hour and day of week\n",
    "data['timestamp'] = pd.to_datetime(data['timestamp'])\n",
    "data['hour'] = data['timestamp'].dt.hour\n",
    "data['dayofweek'] = data['timestamp'].dt.dayofweek\n",
    "data = data.drop('timestamp', axis=1)"
   ]
  },
  {
   "cell_type": "code",
   "execution_count": 4,
   "id": "7d374743-ef95-4c16-9b9d-797c7ac5a176",
   "metadata": {},
   "outputs": [],
   "source": [
    "# One-hot encode categorical variables\n",
    "data = pd.get_dummies(data, drop_first=True)"
   ]
  },
  {
   "cell_type": "code",
   "execution_count": 5,
   "id": "8b7aa007-00b4-4b8d-9810-243632d19f62",
   "metadata": {},
   "outputs": [],
   "source": [
    "# === 2. Prepare Features and Target ===\n",
    "X = data.drop('demand', axis=1)\n",
    "y = data['demand']\n"
   ]
  },
  {
   "cell_type": "code",
   "execution_count": 6,
   "id": "cc2b906c-0799-4653-9b1c-7bc84406dd9a",
   "metadata": {},
   "outputs": [],
   "source": [
    "# Handle missing values\n",
    "imputer = SimpleImputer(strategy='mean')\n",
    "X = pd.DataFrame(imputer.fit_transform(X), columns=X.columns)"
   ]
  },
  {
   "cell_type": "code",
   "execution_count": 7,
   "id": "c912edf7-4ee0-4fbf-b2d2-e9aaf9db17f1",
   "metadata": {},
   "outputs": [],
   "source": [
    "# Train-test split\n",
    "X_train, X_test, y_train, y_test = train_test_split(X, y, test_size=0.2, random_state=42)"
   ]
  },
  {
   "cell_type": "code",
   "execution_count": 8,
   "id": "e9b6a996-5a0d-4c5e-9204-0b93c97878d4",
   "metadata": {},
   "outputs": [],
   "source": [
    "# === 3. Define Evaluation Function ===\n",
    "def evaluate_model(model, X_test, y_test, name=\"Model\"):\n",
    "    y_pred = model.predict(X_test)\n",
    "    mse = mean_squared_error(y_test, y_pred)\n",
    "    mae = mean_absolute_error(y_test, y_pred)\n",
    "    r2 = r2_score(y_test, y_pred)\n",
    "    print(f\"\\n{name} Evaluation:\")\n",
    "    print(f\"Mean Squared Error (MSE): {mse:.4f}\")\n",
    "    print(f\"Mean Absolute Error (MAE): {mae:.4f}\")\n",
    "    print(f\"R² Score: {r2:.4f}\")\n",
    "    return mse, mae, r2"
   ]
  },
  {
   "cell_type": "code",
   "execution_count": 9,
   "id": "52272f53-309f-4532-b623-04716c0e56dc",
   "metadata": {},
   "outputs": [
    {
     "name": "stdout",
     "output_type": "stream",
     "text": [
      "\n",
      "Linear Regression Evaluation:\n",
      "Mean Squared Error (MSE): 1.1031\n",
      "Mean Absolute Error (MAE): 0.8220\n",
      "R² Score: 0.4973\n"
     ]
    }
   ],
   "source": [
    "# === 4. Train and Evaluate Linear Regression ===\n",
    "lr_model = LinearRegression()\n",
    "lr_model.fit(X_train, y_train)\n",
    "lr_results = evaluate_model(lr_model, X_test, y_test, \"Linear Regression\")"
   ]
  },
  {
   "cell_type": "code",
   "execution_count": 11,
   "id": "5f035c03-1537-412a-b43f-2088e091eb6e",
   "metadata": {},
   "outputs": [
    {
     "name": "stdout",
     "output_type": "stream",
     "text": [
      "\n",
      "Ridge (alpha=0.01) Evaluation:\n",
      "Mean Squared Error (MSE): 1.1031\n",
      "Mean Absolute Error (MAE): 0.8220\n",
      "R² Score: 0.4973\n",
      "\n",
      "Ridge (alpha=0.1) Evaluation:\n",
      "Mean Squared Error (MSE): 1.1031\n",
      "Mean Absolute Error (MAE): 0.8220\n",
      "R² Score: 0.4973\n",
      "\n",
      "Ridge (alpha=1) Evaluation:\n",
      "Mean Squared Error (MSE): 1.1032\n",
      "Mean Absolute Error (MAE): 0.8220\n",
      "R² Score: 0.4973\n",
      "\n",
      "Ridge (alpha=10) Evaluation:\n",
      "Mean Squared Error (MSE): 1.1032\n",
      "Mean Absolute Error (MAE): 0.8220\n",
      "R² Score: 0.4973\n",
      "\n",
      "Ridge (alpha=100) Evaluation:\n",
      "Mean Squared Error (MSE): 1.1037\n",
      "Mean Absolute Error (MAE): 0.8225\n",
      "R² Score: 0.4971\n"
     ]
    }
   ],
   "source": [
    "# === 5. Train and Evaluate Ridge Regression with Different Alphas ===\n",
    "alphas = [0.01, 0.1, 1, 10, 100]\n",
    "ridge_results = []\n",
    "\n",
    "for alpha in alphas:\n",
    "    ridge = Ridge(alpha=alpha)\n",
    "    ridge.fit(X_train, y_train)\n",
    "    results = evaluate_model(ridge, X_test, y_test, f\"Ridge (alpha={alpha})\")\n",
    "    ridge_results.append((alpha, *results))"
   ]
  },
  {
   "cell_type": "code",
   "execution_count": null,
   "id": "b2e177b1-6898-433c-af82-df01fbe907b3",
   "metadata": {},
   "outputs": [],
   "source": [
    "### 📄 Report Cell: Interpretation\n",
    "\n",
    "The Linear Regression model achieved an R² score of approximately 0.4973, indicating it explains around 49.7% of the variance in the demand values. Ridge Regression models, tested with various alpha values (0.01 to 100), produced nearly identical performance metrics. This implies that regularization had minimal impact, suggesting the model is not significantly overfitting and the features may already be reasonably independent.\n",
    "\n",
    "Future improvements could involve feature engineering, non-linear models, or incorporating external data (e.g., time-of-year, events) to better capture demand patterns.\n"
   ]
  }
 ],
 "metadata": {
  "kernelspec": {
   "display_name": "Python 3 (ipykernel)",
   "language": "python",
   "name": "python3"
  },
  "language_info": {
   "codemirror_mode": {
    "name": "ipython",
    "version": 3
   },
   "file_extension": ".py",
   "mimetype": "text/x-python",
   "name": "python",
   "nbconvert_exporter": "python",
   "pygments_lexer": "ipython3",
   "version": "3.12.7"
  }
 },
 "nbformat": 4,
 "nbformat_minor": 5
}
